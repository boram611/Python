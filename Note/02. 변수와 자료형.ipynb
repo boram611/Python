{
 "cells": [
  {
   "cell_type": "code",
   "execution_count": 2,
   "metadata": {},
   "outputs": [
    {
     "name": "stdout",
     "output_type": "stream",
     "text": [
      "덧셈: 7\n",
      "제곱: 9\n"
     ]
    }
   ],
   "source": [
    "# 연산자\n",
    "var01 = 3\n",
    "var02 = 4\n",
    "print('덧셈:', var01 + var02)\n",
    "print('제곱:', var01**2)"
   ]
  },
  {
   "cell_type": "code",
   "execution_count": 11,
   "metadata": {},
   "outputs": [
    {
     "name": "stdout",
     "output_type": "stream",
     "text": [
      "거듭제곱: 9\n",
      "거듭제곱: 9\n",
      "거듭제곱: 9.0\n"
     ]
    }
   ],
   "source": [
    "# 파이썬 모듈을 이용한 수학 계산 \n",
    "print('거듭제곱:', var01**2)\n",
    "print('거듭제곱:', pow(var01, 2))\n",
    "\n",
    "#수학 모듈 불러오기\n",
    "import math as 수학\n",
    "print('거듭제곱:',math.pow(var01,2))"
   ]
  },
  {
   "cell_type": "code",
   "execution_count": 13,
   "metadata": {},
   "outputs": [
    {
     "data": {
      "text/plain": [
       "1.7320508075688772"
      ]
     },
     "execution_count": 13,
     "metadata": {},
     "output_type": "execute_result"
    }
   ],
   "source": [
    "# 제곱근\n",
    "수학.sqrt(var01)"
   ]
  },
  {
   "cell_type": "code",
   "execution_count": 14,
   "metadata": {},
   "outputs": [
    {
     "data": {
      "text/plain": [
       "0.8509035245341184"
      ]
     },
     "execution_count": 14,
     "metadata": {},
     "output_type": "execute_result"
    }
   ],
   "source": [
    "# sin 45도\n",
    "math.sin(45)"
   ]
  },
  {
   "cell_type": "code",
   "execution_count": 16,
   "metadata": {},
   "outputs": [
    {
     "data": {
      "text/plain": [
       "1.0"
      ]
     },
     "execution_count": 16,
     "metadata": {},
     "output_type": "execute_result"
    }
   ],
   "source": [
    "# sin(45) ** 2 + cos(45)**2\n",
    "\n",
    "pow(math.sin(45),2) + pow(math.cos(45),2)"
   ]
  },
  {
   "cell_type": "markdown",
   "metadata": {},
   "source": [
    "# 난수 발생"
   ]
  },
  {
   "cell_type": "code",
   "execution_count": 21,
   "metadata": {},
   "outputs": [],
   "source": [
    "import random # 난수 발생 묘듈"
   ]
  },
  {
   "cell_type": "code",
   "execution_count": 25,
   "metadata": {},
   "outputs": [
    {
     "data": {
      "text/plain": [
       "40"
      ]
     },
     "execution_count": 25,
     "metadata": {},
     "output_type": "execute_result"
    }
   ],
   "source": [
    "# 1~100 까지의 정수중 난수 1개 발생\n",
    "random.randint(1, 100)"
   ]
  },
  {
   "cell_type": "code",
   "execution_count": 42,
   "metadata": {},
   "outputs": [
    {
     "data": {
      "text/plain": [
       "[8, 31, 27, 32, 45, 19]"
      ]
     },
     "execution_count": 42,
     "metadata": {},
     "output_type": "execute_result"
    }
   ],
   "source": [
    "# 로또 645 번호 획득하기 번호가 6개 45까지 sample --> 중복 안됌\n",
    "lotto_list = range(1, 46)\n",
    "random.sample(lotto_list , 6)"
   ]
  },
  {
   "cell_type": "code",
   "execution_count": 39,
   "metadata": {},
   "outputs": [
    {
     "name": "stdout",
     "output_type": "stream",
     "text": [
      "1\n",
      "2\n",
      "3\n"
     ]
    }
   ],
   "source": [
    "for i in range(1, 4):\n",
    "    print(i)"
   ]
  },
  {
   "cell_type": "markdown",
   "metadata": {},
   "source": [
    "# 반올림"
   ]
  },
  {
   "cell_type": "code",
   "execution_count": 49,
   "metadata": {},
   "outputs": [
    {
     "name": "stdout",
     "output_type": "stream",
     "text": [
      "2\n",
      "4\n",
      "123.5\n",
      "123.46\n"
     ]
    }
   ],
   "source": [
    "print(round(2.5))\n",
    "print(round(3.5))\n",
    "print(round(123.45, 1))\n",
    "print(round(123.456, 2))"
   ]
  },
  {
   "cell_type": "markdown",
   "metadata": {},
   "source": [
    "# 올림과 내림"
   ]
  },
  {
   "cell_type": "code",
   "execution_count": 52,
   "metadata": {},
   "outputs": [
    {
     "name": "stdout",
     "output_type": "stream",
     "text": [
      "2\n",
      "2\n"
     ]
    }
   ],
   "source": [
    "# 올림\n",
    "print(math.ceil(1.1))\n",
    "print(math.ceil(1.9))\n"
   ]
  },
  {
   "cell_type": "code",
   "execution_count": 54,
   "metadata": {},
   "outputs": [
    {
     "name": "stdout",
     "output_type": "stream",
     "text": [
      "1\n",
      "1\n"
     ]
    }
   ],
   "source": [
    "# 내림\n",
    "print(math.floor(1.1))\n",
    "print(math.floor(1.9))"
   ]
  },
  {
   "cell_type": "markdown",
   "metadata": {},
   "source": [
    "# 메모리에 있는 변수 보기"
   ]
  },
  {
   "cell_type": "code",
   "execution_count": 55,
   "metadata": {},
   "outputs": [
    {
     "data": {
      "text/plain": [
       "['In',\n",
       " 'Out',\n",
       " '_',\n",
       " '_1',\n",
       " '_10',\n",
       " '_12',\n",
       " '_13',\n",
       " '_14',\n",
       " '_15',\n",
       " '_16',\n",
       " '_22',\n",
       " '_23',\n",
       " '_24',\n",
       " '_25',\n",
       " '_26',\n",
       " '_27',\n",
       " '_40',\n",
       " '_41',\n",
       " '_42',\n",
       " '_43',\n",
       " '_44',\n",
       " '_45',\n",
       " '_46',\n",
       " '_50',\n",
       " '_51',\n",
       " '_9',\n",
       " '__',\n",
       " '___',\n",
       " '__builtin__',\n",
       " '__builtins__',\n",
       " '__doc__',\n",
       " '__loader__',\n",
       " '__name__',\n",
       " '__package__',\n",
       " '__spec__',\n",
       " '_dh',\n",
       " '_i',\n",
       " '_i1',\n",
       " '_i10',\n",
       " '_i11',\n",
       " '_i12',\n",
       " '_i13',\n",
       " '_i14',\n",
       " '_i15',\n",
       " '_i16',\n",
       " '_i17',\n",
       " '_i18',\n",
       " '_i19',\n",
       " '_i2',\n",
       " '_i20',\n",
       " '_i21',\n",
       " '_i22',\n",
       " '_i23',\n",
       " '_i24',\n",
       " '_i25',\n",
       " '_i26',\n",
       " '_i27',\n",
       " '_i28',\n",
       " '_i29',\n",
       " '_i3',\n",
       " '_i30',\n",
       " '_i31',\n",
       " '_i32',\n",
       " '_i33',\n",
       " '_i34',\n",
       " '_i35',\n",
       " '_i36',\n",
       " '_i37',\n",
       " '_i38',\n",
       " '_i39',\n",
       " '_i4',\n",
       " '_i40',\n",
       " '_i41',\n",
       " '_i42',\n",
       " '_i43',\n",
       " '_i44',\n",
       " '_i45',\n",
       " '_i46',\n",
       " '_i47',\n",
       " '_i48',\n",
       " '_i49',\n",
       " '_i5',\n",
       " '_i50',\n",
       " '_i51',\n",
       " '_i52',\n",
       " '_i53',\n",
       " '_i54',\n",
       " '_i55',\n",
       " '_i6',\n",
       " '_i7',\n",
       " '_i8',\n",
       " '_i9',\n",
       " '_ih',\n",
       " '_ii',\n",
       " '_iii',\n",
       " '_oh',\n",
       " 'exit',\n",
       " 'get_ipython',\n",
       " 'i',\n",
       " 'lotto_list',\n",
       " 'math',\n",
       " 'quit',\n",
       " 'random',\n",
       " 'var01',\n",
       " 'var02',\n",
       " '수학']"
      ]
     },
     "execution_count": 55,
     "metadata": {},
     "output_type": "execute_result"
    }
   ],
   "source": [
    "dir()"
   ]
  },
  {
   "cell_type": "code",
   "execution_count": 56,
   "metadata": {},
   "outputs": [
    {
     "data": {
      "text/plain": [
       "3"
      ]
     },
     "execution_count": 56,
     "metadata": {},
     "output_type": "execute_result"
    }
   ],
   "source": [
    "var01"
   ]
  },
  {
   "cell_type": "code",
   "execution_count": 59,
   "metadata": {},
   "outputs": [
    {
     "ename": "NameError",
     "evalue": "name 'var01' is not defined",
     "output_type": "error",
     "traceback": [
      "\u001b[0;31m---------------------------------------------------------------------------\u001b[0m",
      "\u001b[0;31mNameError\u001b[0m                                 Traceback (most recent call last)",
      "\u001b[0;32m<ipython-input-59-3ccb13e03de8>\u001b[0m in \u001b[0;36m<module>\u001b[0;34m\u001b[0m\n\u001b[1;32m      1\u001b[0m \u001b[0;31m# 메모리에 있는 변수 삭제하기\u001b[0m\u001b[0;34m\u001b[0m\u001b[0;34m\u001b[0m\u001b[0;34m\u001b[0m\u001b[0m\n\u001b[0;32m----> 2\u001b[0;31m \u001b[0;32mdel\u001b[0m \u001b[0mvar01\u001b[0m\u001b[0;34m\u001b[0m\u001b[0;34m\u001b[0m\u001b[0m\n\u001b[0m\u001b[1;32m      3\u001b[0m \u001b[0mvar01\u001b[0m\u001b[0;34m\u001b[0m\u001b[0;34m\u001b[0m\u001b[0m\n",
      "\u001b[0;31mNameError\u001b[0m: name 'var01' is not defined"
     ]
    }
   ],
   "source": [
    "# 메모리에 있는 변수 삭제하기\n",
    "del var01\n",
    "var01"
   ]
  },
  {
   "cell_type": "markdown",
   "metadata": {},
   "source": [
    "# 관계 연산자"
   ]
  },
  {
   "cell_type": "code",
   "execution_count": 64,
   "metadata": {},
   "outputs": [
    {
     "name": "stdout",
     "output_type": "stream",
     "text": [
      "False\n",
      "True\n",
      "True\n",
      "True\n",
      "False\n",
      "False\n"
     ]
    }
   ],
   "source": [
    "num1 = 100\n",
    "num2 =20\n",
    "print(num1 == num2)\n",
    "print(num1 != num2)\n",
    "print(num1 > num2)\n",
    "print(num1 >= num2)\n",
    "print(num1 < num2)\n",
    "print(num1 <= num2)"
   ]
  },
  {
   "cell_type": "markdown",
   "metadata": {},
   "source": [
    "# 논리 연산자"
   ]
  },
  {
   "cell_type": "code",
   "execution_count": 68,
   "metadata": {},
   "outputs": [
    {
     "name": "stdout",
     "output_type": "stream",
     "text": [
      "False\n",
      "True\n"
     ]
    }
   ],
   "source": [
    "print((num1 >= 50) & (num2 <= 10))\n",
    "print((num1 >= 50) | (num2 <= 10))"
   ]
  },
  {
   "cell_type": "code",
   "execution_count": 70,
   "metadata": {},
   "outputs": [
    {
     "data": {
      "text/plain": [
       "False"
      ]
     },
     "execution_count": 70,
     "metadata": {},
     "output_type": "execute_result"
    }
   ],
   "source": [
    "# 부정 연산자\n",
    "not(num1 >= 50)"
   ]
  },
  {
   "cell_type": "markdown",
   "metadata": {},
   "source": [
    "# 문자열 자료형"
   ]
  },
  {
   "cell_type": "code",
   "execution_count": 73,
   "metadata": {},
   "outputs": [
    {
     "data": {
      "text/plain": [
       "'Hello World'"
      ]
     },
     "execution_count": 73,
     "metadata": {},
     "output_type": "execute_result"
    }
   ],
   "source": [
    "var01 = \"Hello World\"\n",
    "var01"
   ]
  },
  {
   "cell_type": "code",
   "execution_count": 74,
   "metadata": {},
   "outputs": [
    {
     "name": "stdout",
     "output_type": "stream",
     "text": [
      "\n",
      "    Hello World!\n",
      "    Good to meet you\n",
      "\n"
     ]
    }
   ],
   "source": [
    "# 여러줄의 문자열 출력\n",
    "var01 = \"\"\"\n",
    "    Hello World!\n",
    "    Good to meet you\n",
    "\"\"\"\n",
    "print(var01)"
   ]
  },
  {
   "cell_type": "code",
   "execution_count": 77,
   "metadata": {},
   "outputs": [
    {
     "name": "stdout",
     "output_type": "stream",
     "text": [
      "My father's wife is my mother\n",
      "He says \"I love you\".\n"
     ]
    }
   ],
   "source": [
    "# 쌍따옴표와 홑따옴표의 사용\n",
    "var01 = \"My father's wife is my mother\"\n",
    "var02 = 'He says \"I love you\".'\n",
    "print(var01)\n",
    "print(var02)"
   ]
  },
  {
   "cell_type": "code",
   "execution_count": 82,
   "metadata": {},
   "outputs": [
    {
     "name": "stdout",
     "output_type": "stream",
     "text": [
      "aaa\n",
      "bbb\n",
      "aaa\tbbb\n"
     ]
    }
   ],
   "source": [
    "# 특수 문자를 사용한 출력\n",
    "var03 = 'aaa\\nbbb'\n",
    "var03\n",
    "print(var03)\n",
    "\n",
    "var04 = 'aaa\\tbbb'\n",
    "print(var04)"
   ]
  },
  {
   "cell_type": "code",
   "execution_count": 83,
   "metadata": {},
   "outputs": [
    {
     "name": "stdout",
     "output_type": "stream",
     "text": [
      "pythonis fun\n",
      "python is fun\n"
     ]
    }
   ],
   "source": [
    "# 문자열 연산  (덧셈)\n",
    "\n",
    "var01 =\"python\"\n",
    "var02 = \"is fun\"\n",
    "print(var01 +  var02)\n",
    "print(var01, var02)"
   ]
  },
  {
   "cell_type": "code",
   "execution_count": 84,
   "metadata": {},
   "outputs": [
    {
     "name": "stdout",
     "output_type": "stream",
     "text": [
      "pythonpythonpython\n"
     ]
    }
   ],
   "source": [
    "# 문자열 연산 (곱셈)\n",
    "print(var01 * 3)"
   ]
  },
  {
   "cell_type": "code",
   "execution_count": 87,
   "metadata": {},
   "outputs": [
    {
     "name": "stdout",
     "output_type": "stream",
     "text": [
      "====================\n",
      "Python\n",
      "====================\n"
     ]
    }
   ],
   "source": [
    "print(\"=\" * 20)\n",
    "print('Python')\n",
    "print(\"=\" * 20)"
   ]
  },
  {
   "cell_type": "markdown",
   "metadata": {},
   "source": [
    "# 문자열 indexing 과 slicing"
   ]
  },
  {
   "cell_type": "code",
   "execution_count": 98,
   "metadata": {},
   "outputs": [
    {
     "name": "stdout",
     "output_type": "stream",
     "text": [
      "a\n",
      "abc\n",
      "n\n",
      "fghijklmn\n",
      "abcde\n",
      "abc\n",
      "fghijkl\n"
     ]
    }
   ],
   "source": [
    "str01 = \"abcdefghijklmn\"\n",
    "print(str01[0]) # 인덱싱 배열이라 안하고 리스트라함\n",
    "print(str01[0:3]) # 0,1,2 번까지만\n",
    "print(str01[-1]) # 맨뒤\n",
    "print(str01[5:]) # 5번 부터 끝까지\n",
    "print(str01[:5]) # 5번 까지\n",
    "print(str01[0]+str01[1]+str01[2])\n",
    "print(str01[5:-2])"
   ]
  },
  {
   "cell_type": "code",
   "execution_count": 111,
   "metadata": {},
   "outputs": [
    {
     "name": "stdout",
     "output_type": "stream",
     "text": [
      "2020 1229 Snow\n"
     ]
    }
   ],
   "source": [
    "str01 = \"20201229Snow\"\n",
    "year = str01[:4]\n",
    "day = str01[4:8]\n",
    "weather = str01[8:]\n",
    "print(year, str01[4:8], str01[8:])"
   ]
  },
  {
   "cell_type": "code",
   "execution_count": 114,
   "metadata": {},
   "outputs": [
    {
     "name": "stdout",
     "output_type": "stream",
     "text": [
      "20211229Snow\n"
     ]
    }
   ],
   "source": [
    "# str01 = 20211229Snow 로 변경\n",
    "str01 = str01[:3] + \"1\" + str01[4:]\n",
    "print(str01)"
   ]
  },
  {
   "cell_type": "markdown",
   "metadata": {},
   "source": [
    "# 문자열 formatting"
   ]
  },
  {
   "cell_type": "code",
   "execution_count": 115,
   "metadata": {},
   "outputs": [
    {
     "name": "stdout",
     "output_type": "stream",
     "text": [
      "I have 2 apples.\n"
     ]
    }
   ],
   "source": [
    "# %d : 정수형 formatting\n",
    "print(\"I have %d apples.\"%2)"
   ]
  },
  {
   "cell_type": "code",
   "execution_count": 116,
   "metadata": {},
   "outputs": [
    {
     "name": "stdout",
     "output_type": "stream",
     "text": [
      "I have two apples.\n"
     ]
    }
   ],
   "source": [
    "# %s : 문자열 formatting\n",
    "print(\"I have %s apples.\"%\"two\")"
   ]
  },
  {
   "cell_type": "code",
   "execution_count": 117,
   "metadata": {},
   "outputs": [
    {
     "name": "stdout",
     "output_type": "stream",
     "text": [
      "I have 2 apples.\n"
     ]
    }
   ],
   "source": [
    "number = 2\n",
    "print(\"I have %d apples.\"%number)"
   ]
  },
  {
   "cell_type": "code",
   "execution_count": 119,
   "metadata": {},
   "outputs": [
    {
     "name": "stdout",
     "output_type": "stream",
     "text": [
      "I have 2 apple.\n"
     ]
    }
   ],
   "source": [
    "# 혼합형 formatting\n",
    "number = 2\n",
    "fruit = 'apple'\n",
    "print(\"I have %d %s.\"%(number, fruit))"
   ]
  },
  {
   "cell_type": "code",
   "execution_count": 121,
   "metadata": {},
   "outputs": [
    {
     "name": "stdout",
     "output_type": "stream",
     "text": [
      "I have 2     apples.\n",
      "I have 2 apples    .\n"
     ]
    }
   ],
   "source": [
    "# 문자열 정렬\n",
    "print('I have 2 %10s.' %\"apples\") # 오른쪽 정렬\n",
    "print('I have 2 %-10s.' %\"apples\") # 왼쪽 정렬"
   ]
  },
  {
   "cell_type": "code",
   "execution_count": 124,
   "metadata": {},
   "outputs": [
    {
     "name": "stdout",
     "output_type": "stream",
     "text": [
      "---+----+\n",
      "3.1416\n",
      "    3.1416\n"
     ]
    }
   ],
   "source": [
    "# %f : 실수형 formatting\n",
    "print(\"---+----+\")\n",
    "print(\"%0.4f\"%3.14159)\n",
    "print(\"%10.4f\"%3.14159)"
   ]
  },
  {
   "cell_type": "markdown",
   "metadata": {},
   "source": [
    "# 문자열 관련 함수"
   ]
  },
  {
   "cell_type": "code",
   "execution_count": 128,
   "metadata": {},
   "outputs": [
    {
     "name": "stdout",
     "output_type": "stream",
     "text": [
      "3\n",
      "15\n"
     ]
    }
   ],
   "source": [
    "# 문자 count\n",
    "str01 = \"I have a dream.\"\n",
    "print(str01.count('a')) # a 란 글자갯수\n",
    "print(len(str01)) # a의 전체 글자수"
   ]
  },
  {
   "cell_type": "code",
   "execution_count": 132,
   "metadata": {},
   "outputs": [
    {
     "name": "stdout",
     "output_type": "stream",
     "text": [
      "5\n",
      "-1\n",
      "I hav\n"
     ]
    }
   ],
   "source": [
    "# 문자 위치 알려주기\n",
    "print(str01.find('e'))\n",
    "print(str01.find('x')) # 해당 글자 없음\n",
    "print(str01[:str01.find('e')]) # e 앞에 글자를 가져오겠다"
   ]
  },
  {
   "cell_type": "code",
   "execution_count": 134,
   "metadata": {},
   "outputs": [
    {
     "name": "stdout",
     "output_type": "stream",
     "text": [
      "5\n"
     ]
    },
    {
     "ename": "ValueError",
     "evalue": "substring not found",
     "output_type": "error",
     "traceback": [
      "\u001b[0;31m---------------------------------------------------------------------------\u001b[0m",
      "\u001b[0;31mValueError\u001b[0m                                Traceback (most recent call last)",
      "\u001b[0;32m<ipython-input-134-14e2c68b5a1c>\u001b[0m in \u001b[0;36m<module>\u001b[0;34m\u001b[0m\n\u001b[1;32m      1\u001b[0m \u001b[0;31m# 문자 위치 알려주기 -2\u001b[0m\u001b[0;34m\u001b[0m\u001b[0;34m\u001b[0m\u001b[0;34m\u001b[0m\u001b[0m\n\u001b[1;32m      2\u001b[0m \u001b[0mprint\u001b[0m\u001b[0;34m(\u001b[0m\u001b[0mstr01\u001b[0m\u001b[0;34m.\u001b[0m\u001b[0mindex\u001b[0m\u001b[0;34m(\u001b[0m\u001b[0;34m'e'\u001b[0m\u001b[0;34m)\u001b[0m\u001b[0;34m)\u001b[0m\u001b[0;34m\u001b[0m\u001b[0;34m\u001b[0m\u001b[0m\n\u001b[0;32m----> 3\u001b[0;31m \u001b[0mprint\u001b[0m\u001b[0;34m(\u001b[0m\u001b[0mstr01\u001b[0m\u001b[0;34m.\u001b[0m\u001b[0mindex\u001b[0m\u001b[0;34m(\u001b[0m\u001b[0;34m'x'\u001b[0m\u001b[0;34m)\u001b[0m\u001b[0;34m)\u001b[0m\u001b[0;34m\u001b[0m\u001b[0;34m\u001b[0m\u001b[0m\n\u001b[0m",
      "\u001b[0;31mValueError\u001b[0m: substring not found"
     ]
    }
   ],
   "source": [
    "# 문자 위치 알려주기 -2\n",
    "print(str01.index('e'))\n",
    "print(str01.index('x'))"
   ]
  },
  {
   "cell_type": "code",
   "execution_count": 1,
   "metadata": {},
   "outputs": [
    {
     "data": {
      "text/plain": [
       "'a,b,c,d,e,f'"
      ]
     },
     "execution_count": 1,
     "metadata": {},
     "output_type": "execute_result"
    }
   ],
   "source": [
    "# 문자열 삽입(join)\n",
    "str01 = \",\"\n",
    "str01.join('abcdef')"
   ]
  },
  {
   "cell_type": "code",
   "execution_count": 2,
   "metadata": {},
   "outputs": [
    {
     "data": {
      "text/plain": [
       "'HI'"
      ]
     },
     "execution_count": 2,
     "metadata": {},
     "output_type": "execute_result"
    }
   ],
   "source": [
    "# 소문자를 대문자로 변환 (upper)\n",
    "str01 = 'hi'\n",
    "str01.upper()\n"
   ]
  },
  {
   "cell_type": "code",
   "execution_count": 3,
   "metadata": {},
   "outputs": [
    {
     "data": {
      "text/plain": [
       "'hi'"
      ]
     },
     "execution_count": 3,
     "metadata": {},
     "output_type": "execute_result"
    }
   ],
   "source": [
    "# 대문자를 소문자로 변환 (lower)\n",
    "str01 = 'HI'\n",
    "str01.lower()"
   ]
  },
  {
   "cell_type": "code",
   "execution_count": 6,
   "metadata": {},
   "outputs": [
    {
     "data": {
      "text/plain": [
       "'hi'"
      ]
     },
     "execution_count": 6,
     "metadata": {},
     "output_type": "execute_result"
    }
   ],
   "source": [
    "# 공백 지우기\n",
    "str01 = '      hi      '\n",
    "str01.lstrip() # 왼쪽\n",
    "str01.rstrip() # 오른쪽\n",
    "str01.strip() # 양쪽"
   ]
  },
  {
   "cell_type": "code",
   "execution_count": 7,
   "metadata": {},
   "outputs": [
    {
     "data": {
      "text/plain": [
       "'Life is too short to be unhappy.'"
      ]
     },
     "execution_count": 7,
     "metadata": {},
     "output_type": "execute_result"
    }
   ],
   "source": [
    "# 문자열 바꾸기 (replace)\n",
    "str01 = 'Life is too short to be happy.'\n",
    "str01.replace('happy', 'unhappy')"
   ]
  },
  {
   "cell_type": "code",
   "execution_count": 12,
   "metadata": {},
   "outputs": [
    {
     "name": "stdout",
     "output_type": "stream",
     "text": [
      "['Life', 'is', 'too', 'short', 'to', 'be', 'happy.']\n",
      "Life\n"
     ]
    }
   ],
   "source": [
    "# 문자열 나누기 (split)\n",
    "list01 = str01.split() # 공백 기준으로 \n",
    "type(list01)\n",
    "print(list01)\n",
    "print(list01[0])"
   ]
  },
  {
   "cell_type": "code",
   "execution_count": 16,
   "metadata": {},
   "outputs": [
    {
     "data": {
      "text/plain": [
       "['a', 'b', 'c', 'd']"
      ]
     },
     "execution_count": 16,
     "metadata": {},
     "output_type": "execute_result"
    }
   ],
   "source": [
    "str02 = 'a:b:c:d'\n",
    "str02.split(':')"
   ]
  },
  {
   "cell_type": "markdown",
   "metadata": {},
   "source": [
    "---\n",
    "# 날짜형 변환"
   ]
  },
  {
   "cell_type": "code",
   "execution_count": 21,
   "metadata": {},
   "outputs": [],
   "source": [
    "from datetime import datetime, timedelta # 날짜형 모듈 불러오기"
   ]
  },
  {
   "cell_type": "code",
   "execution_count": 22,
   "metadata": {},
   "outputs": [
    {
     "name": "stdout",
     "output_type": "stream",
     "text": [
      "2020-12-25 21:00:00\n"
     ]
    }
   ],
   "source": [
    "time1 = datetime(2020,12,25,21,0,0,0)\n",
    "print(time1)"
   ]
  },
  {
   "cell_type": "code",
   "execution_count": 27,
   "metadata": {},
   "outputs": [
    {
     "name": "stdout",
     "output_type": "stream",
     "text": [
      "2021-01-27 14:48:57.700940\n",
      "32 days, 17:48:57.700940\n"
     ]
    }
   ],
   "source": [
    "# 날짜 계산\n",
    "time2 = datetime.now() #현재\n",
    "print(time2)\n",
    "print(time2 - time1)"
   ]
  },
  {
   "cell_type": "code",
   "execution_count": 29,
   "metadata": {},
   "outputs": [
    {
     "name": "stdout",
     "output_type": "stream",
     "text": [
      "두 날짜의 차이는 32 일 22262 초\n"
     ]
    }
   ],
   "source": [
    "# 좀 더 편리하게 출력\n",
    "print(\"두 날짜의 차이는\", (time2 - time1).days, \"일\" , (time1-time2).seconds, \"초\")"
   ]
  },
  {
   "cell_type": "code",
   "execution_count": 34,
   "metadata": {},
   "outputs": [
    {
     "name": "stdout",
     "output_type": "stream",
     "text": [
      "2021-02-01 14:48:57.700940\n",
      "2021-01-24 14:48:57.700940\n",
      "2021-01-28 12:48:57.700940\n"
     ]
    }
   ],
   "source": [
    "# 특정 날짜로 부터 시간 계산\n",
    "print(time2 + timedelta(days=5)) #5일 뒤\n",
    "print(time2 + timedelta(days=-3)) #3일 전\n",
    "\n",
    "#현재 시간부터 1일 뒤의 2시가 전\n",
    "print(time2 + timedelta(days=1, hours=-2))"
   ]
  },
  {
   "cell_type": "code",
   "execution_count": null,
   "metadata": {},
   "outputs": [],
   "source": []
  }
 ],
 "metadata": {
  "kernelspec": {
   "display_name": "Python 3",
   "language": "python",
   "name": "python3"
  },
  "language_info": {
   "codemirror_mode": {
    "name": "ipython",
    "version": 3
   },
   "file_extension": ".py",
   "mimetype": "text/x-python",
   "name": "python",
   "nbconvert_exporter": "python",
   "pygments_lexer": "ipython3",
   "version": "3.8.5"
  }
 },
 "nbformat": 4,
 "nbformat_minor": 4
}
