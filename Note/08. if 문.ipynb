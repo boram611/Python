{
 "cells": [
  {
   "cell_type": "code",
   "execution_count": 2,
   "metadata": {},
   "outputs": [
    {
     "ename": "SyntaxError",
     "evalue": "invalid syntax (<ipython-input-2-de02594ab638>, line 4)",
     "output_type": "error",
     "traceback": [
      "\u001b[0;36m  File \u001b[0;32m\"<ipython-input-2-de02594ab638>\"\u001b[0;36m, line \u001b[0;32m4\u001b[0m\n\u001b[0;31m    -----------\u001b[0m\n\u001b[0m               ^\u001b[0m\n\u001b[0;31mSyntaxError\u001b[0m\u001b[0;31m:\u001b[0m invalid syntax\n"
     ]
    }
   ],
   "source": [
    "if 조건:\n",
    "    문장1\n",
    "    문장2\n",
    "-----------\n",
    "if 조건:\n",
    "    문장1\n",
    "else:\n",
    "    문장2\n",
    "------------\n",
    "if 조건:\n",
    "    문장1\n",
    "elif 조건:\n",
    "    문장2\n",
    "else:\n",
    "    문장3"
   ]
  },
  {
   "cell_type": "code",
   "execution_count": 3,
   "metadata": {},
   "outputs": [],
   "source": [
    "# 난수 불러오기\n",
    "from random import randint"
   ]
  },
  {
   "cell_type": "code",
   "execution_count": 13,
   "metadata": {},
   "outputs": [
    {
     "data": {
      "text/plain": [
       "78"
      ]
     },
     "execution_count": 13,
     "metadata": {},
     "output_type": "execute_result"
    }
   ],
   "source": [
    "randint(1,100)"
   ]
  },
  {
   "cell_type": "code",
   "execution_count": 14,
   "metadata": {},
   "outputs": [
    {
     "name": "stdout",
     "output_type": "stream",
     "text": [
      "---- end------\n"
     ]
    }
   ],
   "source": [
    "x = randint(1,100)\n",
    "\n",
    "if x >50:\n",
    "    print(\"X is greater than 50\")\n",
    "    \n",
    "print(\"---- end------\")"
   ]
  },
  {
   "cell_type": "code",
   "execution_count": 15,
   "metadata": {},
   "outputs": [
    {
     "name": "stdout",
     "output_type": "stream",
     "text": [
      "X is freater than 50\n",
      "---- end------\n"
     ]
    }
   ],
   "source": [
    "x = randint(1,100)\n",
    "\n",
    "if x >50:\n",
    "    print(\"X is greater than 50\")\n",
    "else:\n",
    "    print(\"X is less or equal to 50\") \n",
    "print(\"---- end------\")"
   ]
  },
  {
   "cell_type": "code",
   "execution_count": 16,
   "metadata": {},
   "outputs": [
    {
     "name": "stdout",
     "output_type": "stream",
     "text": [
      "숫자를 입력하세요12\n"
     ]
    },
    {
     "data": {
      "text/plain": [
       "12"
      ]
     },
     "execution_count": 16,
     "metadata": {},
     "output_type": "execute_result"
    }
   ],
   "source": [
    "# 사용자로 부터 숫자 입력 받기\n",
    "int(input(\"숫자를 입력하세요\"))"
   ]
  },
  {
   "cell_type": "code",
   "execution_count": 17,
   "metadata": {},
   "outputs": [
    {
     "name": "stdout",
     "output_type": "stream",
     "text": [
      "숫자를 입력하세요!3\n",
      "홀수입니다\n"
     ]
    }
   ],
   "source": [
    "# 사용자로부터 숫자를 입력받아 홀수인지 짝수인지 구분하기\n",
    "\n",
    "number = int(input(\"숫자를 입력하세요!\"))\n",
    "\n",
    "if (number%2==1):\n",
    "    print(\"홀수입니다\")\n",
    "else:\n",
    "    print(\"짝수입니다\")"
   ]
  },
  {
   "cell_type": "code",
   "execution_count": 33,
   "metadata": {},
   "outputs": [
    {
     "name": "stdout",
     "output_type": "stream",
     "text": [
      "점수를 입력하세요65\n",
      "D\n"
     ]
    }
   ],
   "source": [
    "# 사용자로부터 점수 입력받아 학점 계산하기\n",
    "\n",
    "score = int(input(\"점수를 입력하세요\"))\n",
    "\n",
    "if(score >= 90):\n",
    "    print(\"A\")\n",
    "elif(score >=80):\n",
    "    print(\"B\")\n",
    "elif(score >=70):\n",
    "    print(\"C\")\n",
    "elif(score >=60):\n",
    "    print(\"D\")\n",
    "else:\n",
    "    print(\"F\")"
   ]
  },
  {
   "cell_type": "code",
   "execution_count": 40,
   "metadata": {},
   "outputs": [
    {
     "name": "stdout",
     "output_type": "stream",
     "text": [
      "숫자를 입력하세요10\n",
      "3.1622776601683795\n"
     ]
    }
   ],
   "source": [
    "# 사용자로부터 숫자를 입력받아 5의 배수이면 제곱근을 구하고 그렇지않으면 원래 수 출력하기\n",
    "\n",
    "import math\n",
    "\n",
    "var01 = int(input(\"숫자를 입력하세요\"))\n",
    "\n",
    "if(var01%5==0):\n",
    "    print(math.sqrt(var01))\n",
    "else:\n",
    "    print(var01)"
   ]
  },
  {
   "cell_type": "code",
   "execution_count": 41,
   "metadata": {},
   "outputs": [
    {
     "name": "stdout",
     "output_type": "stream",
     "text": [
      "신용카드로 택시 타기\n",
      "----End----\n"
     ]
    }
   ],
   "source": [
    "# list의 내용을 if 문으로 확인하기\n",
    "\n",
    "pocket = ['papper', 'smartphone']\n",
    "card =1 \n",
    "\n",
    "if 'money' in pocket:\n",
    "    print(\"현금으로 택시 타기\")\n",
    "elif card:\n",
    "    print(\"신용카드로 택시 타기\")\n",
    "else:\n",
    "    print(\"튼튼한 다리를 사용\")\n",
    "    \n",
    "print('----End----')"
   ]
  },
  {
   "cell_type": "code",
   "execution_count": null,
   "metadata": {},
   "outputs": [],
   "source": []
  }
 ],
 "metadata": {
  "kernelspec": {
   "display_name": "Python 3",
   "language": "python",
   "name": "python3"
  },
  "language_info": {
   "codemirror_mode": {
    "name": "ipython",
    "version": 3
   },
   "file_extension": ".py",
   "mimetype": "text/x-python",
   "name": "python",
   "nbconvert_exporter": "python",
   "pygments_lexer": "ipython3",
   "version": "3.8.5"
  }
 },
 "nbformat": 4,
 "nbformat_minor": 4
}
